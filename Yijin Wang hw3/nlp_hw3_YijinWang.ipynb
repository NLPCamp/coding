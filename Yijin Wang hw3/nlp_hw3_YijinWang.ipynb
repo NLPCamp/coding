{
 "cells": [
  {
   "cell_type": "code",
   "execution_count": null,
   "metadata": {
    "_cell_guid": "b1076dfc-b9ad-4769-8c92-a6c4dae69d19",
    "_uuid": "8f2839f25d086af736a60e9eeb907d3b93b6e0e5"
   },
   "outputs": [],
   "source": [
    "# This Python 3 environment comes with many helpful analytics libraries installed\n",
    "# It is defined by the kaggle/python Docker image: https://github.com/kaggle/docker-python\n",
    "# For example, here's several helpful packages to load\n",
    "\n",
    "import numpy as np # linear algebra\n",
    "import pandas as pd # data processing, CSV file I/O (e.g. pd.read_csv)\n",
    "\n",
    "# Input data files are available in the read-only \"../input/\" directory\n",
    "# For example, running this (by clicking run or pressing Shift+Enter) will list all files under the input directory\n",
    "\n",
    "import os\n",
    "for dirname, _, filenames in os.walk('/kaggle/input'):\n",
    "    for filename in filenames:\n",
    "        print(os.path.join(dirname, filename))\n",
    "\n",
    "# You can write up to 20GB to the current directory (/kaggle/working/) that gets preserved as output when you create a version using \"Save & Run All\" \n",
    "# You can also write temporary files to /kaggle/temp/, but they won't be saved outside of the current session"
   ]
  },
  {
   "cell_type": "markdown",
   "metadata": {},
   "source": [
    "# Problem Definition"
   ]
  },
  {
   "cell_type": "markdown",
   "metadata": {},
   "source": [
    "Summarize short text into headlines\n",
    "\n",
    "The dataset consists of 4515 examples and contains Author_name, Headlines, Url of Article, Short text, Complete Article. Gathered the summarized news from Inshorts and only scraped the news articles from Hindu, Indian times and Guardian. Time period ranges from febrauary to august 2017."
   ]
  },
  {
   "cell_type": "markdown",
   "metadata": {},
   "source": [
    "# Exploration Data Analysis"
   ]
  },
  {
   "cell_type": "markdown",
   "metadata": {},
   "source": [
    "## Importing Libraries"
   ]
  },
  {
   "cell_type": "code",
   "execution_count": 1,
   "metadata": {
    "execution": {
     "iopub.execute_input": "2023-11-13T22:54:34.826797Z",
     "iopub.status.busy": "2023-11-13T22:54:34.826519Z",
     "iopub.status.idle": "2023-11-13T22:54:49.926607Z",
     "shell.execute_reply": "2023-11-13T22:54:49.925556Z",
     "shell.execute_reply.started": "2023-11-13T22:54:34.826762Z"
    }
   },
   "outputs": [
    {
     "name": "stdout",
     "output_type": "stream",
     "text": [
      "Collecting rouge_score\n",
      "  Downloading rouge_score-0.1.2.tar.gz (17 kB)\n",
      "  Preparing metadata (setup.py) ... \u001b[?25ldone\n",
      "\u001b[?25hRequirement already satisfied: absl-py in /opt/conda/lib/python3.10/site-packages (from rouge_score) (1.4.0)\n",
      "Requirement already satisfied: nltk in /opt/conda/lib/python3.10/site-packages (from rouge_score) (3.2.4)\n",
      "Requirement already satisfied: numpy in /opt/conda/lib/python3.10/site-packages (from rouge_score) (1.23.5)\n",
      "Requirement already satisfied: six>=1.14.0 in /opt/conda/lib/python3.10/site-packages (from rouge_score) (1.16.0)\n",
      "Building wheels for collected packages: rouge_score\n",
      "  Building wheel for rouge_score (setup.py) ... \u001b[?25ldone\n",
      "\u001b[?25h  Created wheel for rouge_score: filename=rouge_score-0.1.2-py3-none-any.whl size=24934 sha256=bfe2d32ff05098320eafed920273cf80a31154200f218c328fe3546a6f3e29ef\n",
      "  Stored in directory: /root/.cache/pip/wheels/5f/dd/89/461065a73be61a532ff8599a28e9beef17985c9e9c31e541b4\n",
      "Successfully built rouge_score\n",
      "Installing collected packages: rouge_score\n",
      "Successfully installed rouge_score-0.1.2\n",
      "Note: you may need to restart the kernel to use updated packages.\n"
     ]
    }
   ],
   "source": [
    "pip install rouge_score"
   ]
  },
  {
   "cell_type": "code",
   "execution_count": 2,
   "metadata": {
    "execution": {
     "iopub.execute_input": "2023-11-13T22:54:49.928670Z",
     "iopub.status.busy": "2023-11-13T22:54:49.928369Z",
     "iopub.status.idle": "2023-11-13T22:54:59.759614Z",
     "shell.execute_reply": "2023-11-13T22:54:59.758563Z",
     "shell.execute_reply.started": "2023-11-13T22:54:49.928643Z"
    }
   },
   "outputs": [
    {
     "name": "stderr",
     "output_type": "stream",
     "text": [
      "/opt/conda/lib/python3.10/site-packages/scipy/__init__.py:146: UserWarning: A NumPy version >=1.16.5 and <1.23.0 is required for this version of SciPy (detected version 1.23.5\n",
      "  warnings.warn(f\"A NumPy version >={np_minversion} and <{np_maxversion}\"\n"
     ]
    }
   ],
   "source": [
    "import numpy as np\n",
    "import pandas as pd \n",
    "import re\n",
    "from bs4 import BeautifulSoup\n",
    "from nltk.corpus import stopwords\n",
    "import tensorflow as tf\n",
    "from tensorflow import keras\n",
    "from tensorflow.keras.preprocessing.text import Tokenizer\n",
    "from tensorflow.keras.layers import Attention\n",
    "from tensorflow.keras.preprocessing.sequence import pad_sequences\n",
    "from tensorflow.keras.layers import Input, LSTM, Embedding, Dense, Concatenate, TimeDistributed\n",
    "from tensorflow.keras.models import Model\n",
    "from tensorflow.keras.callbacks import EarlyStopping, ReduceLROnPlateau\n",
    "from tensorflow.keras.utils import plot_model\n",
    "import warnings\n",
    "pd.set_option(\"display.max_colwidth\", 200)\n",
    "warnings.filterwarnings(\"ignore\")\n",
    "from tensorflow.keras.utils import plot_model\n",
    "import rouge_score"
   ]
  },
  {
   "cell_type": "markdown",
   "metadata": {},
   "source": [
    "## Loading Data"
   ]
  },
  {
   "cell_type": "code",
   "execution_count": 3,
   "metadata": {
    "execution": {
     "iopub.execute_input": "2023-11-13T22:54:59.761478Z",
     "iopub.status.busy": "2023-11-13T22:54:59.760890Z",
     "iopub.status.idle": "2023-11-13T22:55:00.958394Z",
     "shell.execute_reply": "2023-11-13T22:55:00.957543Z",
     "shell.execute_reply.started": "2023-11-13T22:54:59.761449Z"
    }
   },
   "outputs": [],
   "source": [
    "summary = pd.read_csv('/kaggle/input/news-summary/news_summary.csv', encoding='iso-8859-1')\n",
    "summary_more = pd.read_csv('/kaggle/input/news-summary/news_summary_more.csv', encoding='iso-8859-1')"
   ]
  },
  {
   "cell_type": "code",
   "execution_count": 4,
   "metadata": {
    "execution": {
     "iopub.execute_input": "2023-11-13T22:55:00.961095Z",
     "iopub.status.busy": "2023-11-13T22:55:00.960389Z",
     "iopub.status.idle": "2023-11-13T22:55:00.981763Z",
     "shell.execute_reply": "2023-11-13T22:55:00.980897Z",
     "shell.execute_reply.started": "2023-11-13T22:55:00.961058Z"
    }
   },
   "outputs": [
    {
     "data": {
      "text/html": [
       "<div>\n",
       "<style scoped>\n",
       "    .dataframe tbody tr th:only-of-type {\n",
       "        vertical-align: middle;\n",
       "    }\n",
       "\n",
       "    .dataframe tbody tr th {\n",
       "        vertical-align: top;\n",
       "    }\n",
       "\n",
       "    .dataframe thead th {\n",
       "        text-align: right;\n",
       "    }\n",
       "</style>\n",
       "<table border=\"1\" class=\"dataframe\">\n",
       "  <thead>\n",
       "    <tr style=\"text-align: right;\">\n",
       "      <th></th>\n",
       "      <th>author</th>\n",
       "      <th>date</th>\n",
       "      <th>headlines</th>\n",
       "      <th>read_more</th>\n",
       "      <th>text</th>\n",
       "      <th>ctext</th>\n",
       "    </tr>\n",
       "  </thead>\n",
       "  <tbody>\n",
       "    <tr>\n",
       "      <th>0</th>\n",
       "      <td>Chhavi Tyagi</td>\n",
       "      <td>03 Aug 2017,Thursday</td>\n",
       "      <td>Daman &amp; Diu revokes mandatory Rakshabandhan in offices order</td>\n",
       "      <td>http://www.hindustantimes.com/india-news/rakshabandhan-compulsory-in-daman-and-diu-women-employees-to-tie-rakhis-to-male-colleagues/story-E5h5U1ZDJii5zFpLXWRkhJ.html?utm_source=inshorts&amp;utm_medium...</td>\n",
       "      <td>The Administration of Union Territory Daman and Diu has revoked its order that made it compulsory for women to tie rakhis to their male colleagues on the occasion of Rakshabandhan on August 7. The...</td>\n",
       "      <td>The Daman and Diu administration on Wednesday withdrew a circular that asked women staff to tie rakhis on male colleagues after the order triggered a backlash from employees and was ripped apart o...</td>\n",
       "    </tr>\n",
       "  </tbody>\n",
       "</table>\n",
       "</div>"
      ],
      "text/plain": [
       "         author                  date  \\\n",
       "0  Chhavi Tyagi  03 Aug 2017,Thursday   \n",
       "\n",
       "                                                      headlines  \\\n",
       "0  Daman & Diu revokes mandatory Rakshabandhan in offices order   \n",
       "\n",
       "                                                                                                                                                                                                 read_more  \\\n",
       "0  http://www.hindustantimes.com/india-news/rakshabandhan-compulsory-in-daman-and-diu-women-employees-to-tie-rakhis-to-male-colleagues/story-E5h5U1ZDJii5zFpLXWRkhJ.html?utm_source=inshorts&utm_medium...   \n",
       "\n",
       "                                                                                                                                                                                                      text  \\\n",
       "0  The Administration of Union Territory Daman and Diu has revoked its order that made it compulsory for women to tie rakhis to their male colleagues on the occasion of Rakshabandhan on August 7. The...   \n",
       "\n",
       "                                                                                                                                                                                                     ctext  \n",
       "0  The Daman and Diu administration on Wednesday withdrew a circular that asked women staff to tie rakhis on male colleagues after the order triggered a backlash from employees and was ripped apart o...  "
      ]
     },
     "metadata": {},
     "output_type": "display_data"
    }
   ],
   "source": [
    "display(summary.head(1))"
   ]
  },
  {
   "cell_type": "code",
   "execution_count": 5,
   "metadata": {
    "execution": {
     "iopub.execute_input": "2023-11-13T22:55:32.973315Z",
     "iopub.status.busy": "2023-11-13T22:55:32.972689Z",
     "iopub.status.idle": "2023-11-13T22:55:32.981780Z",
     "shell.execute_reply": "2023-11-13T22:55:32.980899Z",
     "shell.execute_reply.started": "2023-11-13T22:55:32.973272Z"
    }
   },
   "outputs": [
    {
     "data": {
      "text/html": [
       "<div>\n",
       "<style scoped>\n",
       "    .dataframe tbody tr th:only-of-type {\n",
       "        vertical-align: middle;\n",
       "    }\n",
       "\n",
       "    .dataframe tbody tr th {\n",
       "        vertical-align: top;\n",
       "    }\n",
       "\n",
       "    .dataframe thead th {\n",
       "        text-align: right;\n",
       "    }\n",
       "</style>\n",
       "<table border=\"1\" class=\"dataframe\">\n",
       "  <thead>\n",
       "    <tr style=\"text-align: right;\">\n",
       "      <th></th>\n",
       "      <th>headlines</th>\n",
       "      <th>text</th>\n",
       "    </tr>\n",
       "  </thead>\n",
       "  <tbody>\n",
       "    <tr>\n",
       "      <th>0</th>\n",
       "      <td>upGrad learner switches to career in ML &amp; Al with 90% salary hike</td>\n",
       "      <td>Saurav Kant, an alumnus of upGrad and IIIT-B's PG Program in Machine learning and Artificial Intelligence, was a Sr Systems Engineer at Infosys with almost 5 years of work experience. The program ...</td>\n",
       "    </tr>\n",
       "  </tbody>\n",
       "</table>\n",
       "</div>"
      ],
      "text/plain": [
       "                                                           headlines  \\\n",
       "0  upGrad learner switches to career in ML & Al with 90% salary hike   \n",
       "\n",
       "                                                                                                                                                                                                      text  \n",
       "0  Saurav Kant, an alumnus of upGrad and IIIT-B's PG Program in Machine learning and Artificial Intelligence, was a Sr Systems Engineer at Infosys with almost 5 years of work experience. The program ...  "
      ]
     },
     "execution_count": 5,
     "metadata": {},
     "output_type": "execute_result"
    }
   ],
   "source": [
    "summary_more.head(1)"
   ]
  },
  {
   "cell_type": "code",
   "execution_count": 6,
   "metadata": {
    "execution": {
     "iopub.execute_input": "2023-11-13T22:55:33.415076Z",
     "iopub.status.busy": "2023-11-13T22:55:33.414705Z",
     "iopub.status.idle": "2023-11-13T22:55:33.443391Z",
     "shell.execute_reply": "2023-11-13T22:55:33.442425Z",
     "shell.execute_reply.started": "2023-11-13T22:55:33.415047Z"
    }
   },
   "outputs": [
    {
     "name": "stdout",
     "output_type": "stream",
     "text": [
      "<class 'pandas.core.frame.DataFrame'>\n",
      "RangeIndex: 4514 entries, 0 to 4513\n",
      "Data columns (total 6 columns):\n",
      " #   Column     Non-Null Count  Dtype \n",
      "---  ------     --------------  ----- \n",
      " 0   author     4514 non-null   object\n",
      " 1   date       4514 non-null   object\n",
      " 2   headlines  4514 non-null   object\n",
      " 3   read_more  4514 non-null   object\n",
      " 4   text       4514 non-null   object\n",
      " 5   ctext      4396 non-null   object\n",
      "dtypes: object(6)\n",
      "memory usage: 211.7+ KB\n"
     ]
    }
   ],
   "source": [
    "summary.info()"
   ]
  },
  {
   "cell_type": "code",
   "execution_count": 7,
   "metadata": {
    "execution": {
     "iopub.execute_input": "2023-11-13T22:55:33.894407Z",
     "iopub.status.busy": "2023-11-13T22:55:33.893544Z",
     "iopub.status.idle": "2023-11-13T22:55:33.925140Z",
     "shell.execute_reply": "2023-11-13T22:55:33.924232Z",
     "shell.execute_reply.started": "2023-11-13T22:55:33.894372Z"
    }
   },
   "outputs": [
    {
     "name": "stdout",
     "output_type": "stream",
     "text": [
      "<class 'pandas.core.frame.DataFrame'>\n",
      "RangeIndex: 98401 entries, 0 to 98400\n",
      "Data columns (total 2 columns):\n",
      " #   Column     Non-Null Count  Dtype \n",
      "---  ------     --------------  ----- \n",
      " 0   headlines  98401 non-null  object\n",
      " 1   text       98401 non-null  object\n",
      "dtypes: object(2)\n",
      "memory usage: 1.5+ MB\n"
     ]
    }
   ],
   "source": [
    "summary_more.info()"
   ]
  },
  {
   "cell_type": "code",
   "execution_count": 8,
   "metadata": {
    "execution": {
     "iopub.execute_input": "2023-11-13T22:55:34.468111Z",
     "iopub.status.busy": "2023-11-13T22:55:34.467728Z",
     "iopub.status.idle": "2023-11-13T22:55:34.475740Z",
     "shell.execute_reply": "2023-11-13T22:55:34.474799Z",
     "shell.execute_reply.started": "2023-11-13T22:55:34.468078Z"
    }
   },
   "outputs": [],
   "source": [
    "df=summary[['headlines','text']]"
   ]
  },
  {
   "cell_type": "code",
   "execution_count": 9,
   "metadata": {
    "execution": {
     "iopub.execute_input": "2023-11-13T22:55:35.100174Z",
     "iopub.status.busy": "2023-11-13T22:55:35.099785Z",
     "iopub.status.idle": "2023-11-13T22:55:35.109975Z",
     "shell.execute_reply": "2023-11-13T22:55:35.109007Z",
     "shell.execute_reply.started": "2023-11-13T22:55:35.100146Z"
    }
   },
   "outputs": [],
   "source": [
    "df_test = summary_more[['headlines','text']].head(1000)"
   ]
  },
  {
   "cell_type": "markdown",
   "metadata": {},
   "source": [
    "## Data Preprocessing"
   ]
  },
  {
   "cell_type": "code",
   "execution_count": 10,
   "metadata": {
    "execution": {
     "iopub.execute_input": "2023-11-13T22:55:43.992933Z",
     "iopub.status.busy": "2023-11-13T22:55:43.991838Z",
     "iopub.status.idle": "2023-11-13T22:55:44.006470Z",
     "shell.execute_reply": "2023-11-13T22:55:44.005655Z",
     "shell.execute_reply.started": "2023-11-13T22:55:43.992889Z"
    }
   },
   "outputs": [],
   "source": [
    "stop_words = set(stopwords.words('english')) \n",
    "\n",
    "def text_cleaner(text,num=0):\n",
    "    # lower\n",
    "    newString = text.lower()\n",
    "    # remove HTML\n",
    "    newString = BeautifulSoup(newString, \"lxml\").text\n",
    "    # Remove any text inside the parenthesis\n",
    "    newString = re.sub(r'\\([^)]*\\)', '', newString)\n",
    "    # remove double quotes\n",
    "    newString = re.sub('\"','', newString)\n",
    "    # remove 's\n",
    "    newString = re.sub(r\"'s\\b\",\"\",newString)\n",
    "    # Eliminate punctuations and special characters\n",
    "    newString = re.sub(\"[^a-zA-Z]\", \" \", newString)\n",
    "    # Remove stopwords\n",
    "    if(num==0):\n",
    "        tokens = [w for w in newString.split() if not w in stop_words]\n",
    "    else:\n",
    "        tokens=newString.split()\n",
    "    long_words=[]\n",
    "    # Remove short words\n",
    "    for i in tokens:\n",
    "        if len(i)>1:                                                 \n",
    "            long_words.append(i)   \n",
    "    return (\" \".join(long_words)).strip()"
   ]
  },
  {
   "cell_type": "code",
   "execution_count": 11,
   "metadata": {
    "execution": {
     "iopub.execute_input": "2023-11-13T22:55:44.345510Z",
     "iopub.status.busy": "2023-11-13T22:55:44.345140Z",
     "iopub.status.idle": "2023-11-13T22:55:46.689840Z",
     "shell.execute_reply": "2023-11-13T22:55:46.689043Z",
     "shell.execute_reply.started": "2023-11-13T22:55:44.345482Z"
    }
   },
   "outputs": [],
   "source": [
    "df['cleaned_summary']=df['headlines'].apply(text_cleaner)\n",
    "df['cleaned_text']=df['text'].apply(text_cleaner)\n",
    "df_test['cleaned_summary']=df_test['headlines'].apply(text_cleaner)\n",
    "df_test['cleaned_text']=df_test['text'].apply(text_cleaner)"
   ]
  },
  {
   "cell_type": "code",
   "execution_count": 12,
   "metadata": {
    "execution": {
     "iopub.execute_input": "2023-11-13T22:55:46.691566Z",
     "iopub.status.busy": "2023-11-13T22:55:46.691277Z",
     "iopub.status.idle": "2023-11-13T22:55:46.707076Z",
     "shell.execute_reply": "2023-11-13T22:55:46.706184Z",
     "shell.execute_reply.started": "2023-11-13T22:55:46.691542Z"
    }
   },
   "outputs": [],
   "source": [
    "#Replacing empty string summaries with nan values and then dropping those datapoints.\n",
    "df['cleaned_summary'].replace('', np.nan, inplace=True)\n",
    "df.dropna(axis=0, inplace=True)\n",
    "df_test['cleaned_summary'].replace('', np.nan, inplace=True)\n",
    "df_test.dropna(axis=0, inplace=True)"
   ]
  },
  {
   "cell_type": "code",
   "execution_count": 13,
   "metadata": {
    "execution": {
     "iopub.execute_input": "2023-11-13T22:55:46.708616Z",
     "iopub.status.busy": "2023-11-13T22:55:46.708339Z",
     "iopub.status.idle": "2023-11-13T22:55:47.248735Z",
     "shell.execute_reply": "2023-11-13T22:55:47.247612Z",
     "shell.execute_reply.started": "2023-11-13T22:55:46.708593Z"
    }
   },
   "outputs": [
    {
     "data": {
      "image/png": "[encoded data removed]",
      "text/plain": [
       "<Figure size 640x480 with 2 Axes>"
      ]
     },
     "metadata": {},
     "output_type": "display_data"
    }
   ],
   "source": [
    "import matplotlib.pyplot as plt\n",
    "\n",
    "text_word_count = []\n",
    "summary_word_count = []\n",
    "\n",
    "# populate the lists with sentence lengths\n",
    "for i in df['cleaned_text']:\n",
    "      text_word_count.append(len(i.split()))\n",
    "\n",
    "for i in df['cleaned_summary']:\n",
    "      summary_word_count.append(len(i.split()))\n",
    "\n",
    "length_df = pd.DataFrame({'text':text_word_count, 'summary':summary_word_count})\n",
    "\n",
    "length_df.hist(bins = 30)\n",
    "plt.show()"
   ]
  },
  {
   "cell_type": "code",
   "execution_count": 14,
   "metadata": {
    "execution": {
     "iopub.execute_input": "2023-11-13T22:55:47.250813Z",
     "iopub.status.busy": "2023-11-13T22:55:47.250543Z",
     "iopub.status.idle": "2023-11-13T22:55:47.256031Z",
     "shell.execute_reply": "2023-11-13T22:55:47.254917Z",
     "shell.execute_reply.started": "2023-11-13T22:55:47.250790Z"
    }
   },
   "outputs": [],
   "source": [
    "def clean_text (df):\n",
    "    cleaned_text =np.array(df['cleaned_text'])\n",
    "    cleaned_summary=np.array(df['cleaned_summary'])\n",
    "    return pd.DataFrame({'text':cleaned_text,'summary':cleaned_summary})"
   ]
  },
  {
   "cell_type": "code",
   "execution_count": 15,
   "metadata": {
    "execution": {
     "iopub.execute_input": "2023-11-13T22:55:47.494254Z",
     "iopub.status.busy": "2023-11-13T22:55:47.493243Z",
     "iopub.status.idle": "2023-11-13T22:55:47.500299Z",
     "shell.execute_reply": "2023-11-13T22:55:47.499228Z",
     "shell.execute_reply.started": "2023-11-13T22:55:47.494212Z"
    }
   },
   "outputs": [],
   "source": [
    "train = clean_text(df)\n",
    "test = clean_text(df_test)"
   ]
  },
  {
   "cell_type": "code",
   "execution_count": 16,
   "metadata": {
    "execution": {
     "iopub.execute_input": "2023-11-13T22:55:52.862458Z",
     "iopub.status.busy": "2023-11-13T22:55:52.861616Z",
     "iopub.status.idle": "2023-11-13T22:55:52.882137Z",
     "shell.execute_reply": "2023-11-13T22:55:52.881119Z",
     "shell.execute_reply.started": "2023-11-13T22:55:52.862426Z"
    }
   },
   "outputs": [
    {
     "name": "stdout",
     "output_type": "stream",
     "text": [
      "49 11\n"
     ]
    }
   ],
   "source": [
    "#Get max length of texts and summaries.\n",
    "max_text_len = max([len(text.split()) for text in train['text']])\n",
    "max_summary_len = max([len(text.split()) for text in train['summary']])\n",
    "print(max_text_len, max_summary_len)"
   ]
  },
  {
   "cell_type": "code",
   "execution_count": 90,
   "metadata": {
    "execution": {
     "iopub.execute_input": "2023-11-13T13:01:04.773586Z",
     "iopub.status.busy": "2023-11-13T13:01:04.773251Z",
     "iopub.status.idle": "2023-11-13T13:01:04.783074Z",
     "shell.execute_reply": "2023-11-13T13:01:04.781907Z",
     "shell.execute_reply.started": "2023-11-13T13:01:04.773560Z"
    }
   },
   "outputs": [],
   "source": [
    "train['summary'] = train['summary'].apply(lambda x : 'sostok '+ x + ' eostok')\n",
    "test['summary'] = test['summary'].apply(lambda x : 'sostok '+ x + ' eostok')"
   ]
  },
  {
   "cell_type": "markdown",
   "metadata": {},
   "source": [
    "We used the start token sostok and the end token eostok. This is important because the model will learn that all the summaries start with ‘sostok’ and end with ‘eostok’. "
   ]
  },
  {
   "cell_type": "code",
   "execution_count": 91,
   "metadata": {
    "execution": {
     "iopub.execute_input": "2023-11-13T13:01:05.349437Z",
     "iopub.status.busy": "2023-11-13T13:01:05.349089Z",
     "iopub.status.idle": "2023-11-13T13:01:05.357087Z",
     "shell.execute_reply": "2023-11-13T13:01:05.356112Z",
     "shell.execute_reply.started": "2023-11-13T13:01:05.349410Z"
    }
   },
   "outputs": [],
   "source": [
    "from sklearn.model_selection import train_test_split \n",
    "X = train['text']\n",
    "y = train['summary']\n",
    "X_train,X_validation,y_train,y_validation=train_test_split(np.array(X),np.array(y),test_size=0.2,random_state=15)\n",
    "X_test = np.array(test['text'])\n",
    "y_test = np.array(test['summary'])"
   ]
  },
  {
   "cell_type": "markdown",
   "metadata": {},
   "source": [
    "# Base model - Seq2Seq LSTM"
   ]
  },
  {
   "cell_type": "code",
   "execution_count": 92,
   "metadata": {
    "execution": {
     "iopub.execute_input": "2023-11-13T13:01:07.114128Z",
     "iopub.status.busy": "2023-11-13T13:01:07.113756Z",
     "iopub.status.idle": "2023-11-13T13:01:07.120861Z",
     "shell.execute_reply": "2023-11-13T13:01:07.119855Z",
     "shell.execute_reply.started": "2023-11-13T13:01:07.114099Z"
    }
   },
   "outputs": [],
   "source": [
    "def a_tokenizer(df_train,df_val,max_length):\n",
    "    tokenizer=Tokenizer()\n",
    "    tokenizer.fit_on_texts(list(df_train)) #updates internal vocabulary based on a list of texts. It will create a dictionary with word mapping with an index(unique numerical value)\n",
    "    #convert text sequences into integer sequences \n",
    "    #transforms each text in texts to a sequence of numerical value. It will give assign the index of each to the word. The output will be series of numerical value\n",
    "    train_seq = tokenizer.texts_to_sequences(df_train) \n",
    "    val_seq = tokenizer.texts_to_sequences(df_val)\n",
    "    #padding zero upto maximum length\n",
    "    train = pad_sequences(train_seq,  maxlen=max_length, padding='post')\n",
    "    val = pad_sequences(val_seq, maxlen=max_length, padding='post')\n",
    "    #size of vocabulary ( +1 for padding token)\n",
    "    voc= len(tokenizer.word_index) + 1\n",
    "    print(print(\"Size of vocabulary = {}\".format(voc)))\n",
    "    return tokenizer,train, val,voc"
   ]
  },
  {
   "cell_type": "code",
   "execution_count": 93,
   "metadata": {
    "execution": {
     "iopub.execute_input": "2023-11-13T13:01:07.807649Z",
     "iopub.status.busy": "2023-11-13T13:01:07.807293Z",
     "iopub.status.idle": "2023-11-13T13:01:08.120259Z",
     "shell.execute_reply": "2023-11-13T13:01:08.119225Z",
     "shell.execute_reply.started": "2023-11-13T13:01:07.807619Z"
    }
   },
   "outputs": [
    {
     "name": "stdout",
     "output_type": "stream",
     "text": [
      "Size of vocabulary = 16612\n",
      "None\n"
     ]
    }
   ],
   "source": [
    "X_tokenizer,X_tr, X_val, X_voc = a_tokenizer(X_train,X_validation,max_text_len)"
   ]
  },
  {
   "cell_type": "code",
   "execution_count": 94,
   "metadata": {
    "execution": {
     "iopub.execute_input": "2023-11-13T13:01:08.739910Z",
     "iopub.status.busy": "2023-11-13T13:01:08.739191Z",
     "iopub.status.idle": "2023-11-13T13:01:08.888753Z",
     "shell.execute_reply": "2023-11-13T13:01:08.887880Z",
     "shell.execute_reply.started": "2023-11-13T13:01:08.739881Z"
    }
   },
   "outputs": [
    {
     "name": "stdout",
     "output_type": "stream",
     "text": [
      "Size of vocabulary = 7329\n",
      "None\n"
     ]
    }
   ],
   "source": [
    "y_tokenizer,y_tr,y_val,y_voc = a_tokenizer(y_train,y_validation,max_summary_len)"
   ]
  },
  {
   "cell_type": "markdown",
   "metadata": {},
   "source": [
    "## Model Building"
   ]
  },
  {
   "cell_type": "code",
   "execution_count": 95,
   "metadata": {
    "execution": {
     "iopub.execute_input": "2023-11-13T13:01:10.405403Z",
     "iopub.status.busy": "2023-11-13T13:01:10.405062Z",
     "iopub.status.idle": "2023-11-13T13:01:10.425196Z",
     "shell.execute_reply": "2023-11-13T13:01:10.424214Z",
     "shell.execute_reply.started": "2023-11-13T13:01:10.405376Z"
    }
   },
   "outputs": [],
   "source": [
    "import tensorflow as tf\n",
    "from tensorflow.python.keras import backend as K\n",
    "\n",
    "logger = tf.get_logger()\n",
    "\n",
    "class AttentionLayer(tf.keras.layers.Layer):\n",
    "    \"\"\"\n",
    "    This class implements Bahdanau attention (https://arxiv.org/pdf/1409.0473.pdf).\n",
    "    There are three sets of weights introduced W_a, U_a, and V_a\n",
    "     \"\"\"\n",
    "\n",
    "    def __init__(self, **kwargs):\n",
    "        super(AttentionLayer, self).__init__(**kwargs)\n",
    "\n",
    "    def build(self, input_shape):\n",
    "        assert isinstance(input_shape, list)\n",
    "        # Create a trainable weight variable for this layer.\n",
    "\n",
    "        self.W_a = self.add_weight(name='W_a',\n",
    "                                   shape=tf.TensorShape((input_shape[0][2], input_shape[0][2])),\n",
    "                                   initializer='uniform',\n",
    "                                   trainable=True)\n",
    "        self.U_a = self.add_weight(name='U_a',\n",
    "                                   shape=tf.TensorShape((input_shape[1][2], input_shape[0][2])),\n",
    "                                   initializer='uniform',\n",
    "                                   trainable=True)\n",
    "        self.V_a = self.add_weight(name='V_a',\n",
    "                                   shape=tf.TensorShape((input_shape[0][2], 1)),\n",
    "                                   initializer='uniform',\n",
    "                                   trainable=True)\n",
    "\n",
    "        super(AttentionLayer, self).build(input_shape)  # Be sure to call this at the end\n",
    "\n",
    "    def call(self, inputs):\n",
    "        \"\"\"\n",
    "        inputs: [encoder_output_sequence, decoder_output_sequence]\n",
    "        \"\"\"\n",
    "        assert type(inputs) == list\n",
    "        encoder_out_seq, decoder_out_seq = inputs\n",
    "\n",
    "        logger.debug(f\"encoder_out_seq.shape = {encoder_out_seq.shape}\")\n",
    "        logger.debug(f\"decoder_out_seq.shape = {decoder_out_seq.shape}\")\n",
    "\n",
    "        def energy_step(inputs, states):\n",
    "            \"\"\" Step function for computing energy for a single decoder state\n",
    "            inputs: (batchsize * 1 * de_in_dim)\n",
    "            states: (batchsize * 1 * de_latent_dim)\n",
    "            \"\"\"\n",
    "\n",
    "            logger.debug(\"Running energy computation step\")\n",
    "\n",
    "            if not isinstance(states, (list, tuple)):\n",
    "                raise TypeError(f\"States must be an iterable. Got {states} of type {type(states)}\")\n",
    "\n",
    "            encoder_full_seq = states[-1]\n",
    "\n",
    "            \"\"\" Computing S.Wa where S=[s0, s1, ..., si]\"\"\"\n",
    "            # <= batch size * en_seq_len * latent_dim\n",
    "            W_a_dot_s = K.dot(encoder_full_seq, self.W_a)\n",
    "\n",
    "            \"\"\" Computing hj.Ua \"\"\"\n",
    "            U_a_dot_h = K.expand_dims(K.dot(inputs, self.U_a), 1)  # <= batch_size, 1, latent_dim\n",
    "\n",
    "            logger.debug(f\"U_a_dot_h.shape = {U_a_dot_h.shape}\")\n",
    "\n",
    "            \"\"\" tanh(S.Wa + hj.Ua) \"\"\"\n",
    "            # <= batch_size*en_seq_len, latent_dim\n",
    "            Ws_plus_Uh = K.tanh(W_a_dot_s + U_a_dot_h)\n",
    "\n",
    "            logger.debug(f\"Ws_plus_Uh.shape = {Ws_plus_Uh.shape}\")\n",
    "\n",
    "            \"\"\" softmax(va.tanh(S.Wa + hj.Ua)) \"\"\"\n",
    "            # <= batch_size, en_seq_len\n",
    "            e_i = K.squeeze(K.dot(Ws_plus_Uh, self.V_a), axis=-1)\n",
    "            # <= batch_size, en_seq_len\n",
    "            e_i = K.softmax(e_i)\n",
    "\n",
    "            logger.debug(f\"ei.shape = {e_i.shape}\")\n",
    "\n",
    "            return e_i, [e_i]\n",
    "\n",
    "        def context_step(inputs, states):\n",
    "            \"\"\" Step function for computing ci using ei \"\"\"\n",
    "\n",
    "            logger.debug(\"Running attention vector computation step\")\n",
    "\n",
    "            if not isinstance(states, (list, tuple)):\n",
    "                raise TypeError(f\"States must be an iterable. Got {states} of type {type(states)}\")\n",
    "\n",
    "            encoder_full_seq = states[-1]\n",
    "\n",
    "            # <= batch_size, hidden_size\n",
    "            c_i = K.sum(encoder_full_seq * K.expand_dims(inputs, -1), axis=1)\n",
    "\n",
    "            logger.debug(f\"ci.shape = {c_i.shape}\")\n",
    "\n",
    "            return c_i, [c_i]\n",
    "\n",
    "        # we don't maintain states between steps when computing attention\n",
    "        # attention is stateless, so we're passing a fake state for RNN step function\n",
    "        fake_state_c = K.sum(encoder_out_seq, axis=1)\n",
    "        fake_state_e = K.sum(encoder_out_seq, axis=2)  # <= (batch_size, enc_seq_len, latent_dim\n",
    "\n",
    "        \"\"\" Computing energy outputs \"\"\"\n",
    "        # e_outputs => (batch_size, de_seq_len, en_seq_len)\n",
    "        last_out, e_outputs, _ = K.rnn(\n",
    "            energy_step, decoder_out_seq, [fake_state_e], constants=[encoder_out_seq]\n",
    "        )\n",
    "\n",
    "        \"\"\" Computing context vectors \"\"\"\n",
    "        last_out, c_outputs, _ = K.rnn(\n",
    "            context_step, e_outputs, [fake_state_c], constants=[encoder_out_seq]\n",
    "        )\n",
    "\n",
    "        return c_outputs, e_outputs\n",
    "\n",
    "    def compute_output_shape(self, input_shape):\n",
    "        \"\"\" Outputs produced by the layer \"\"\"\n",
    "        return [\n",
    "            tf.TensorShape((input_shape[1][0], input_shape[1][1], input_shape[1][2])),\n",
    "            tf.TensorShape((input_shape[1][0], input_shape[1][1], input_shape[0][1]))\n",
    "        ]\n"
   ]
  },
  {
   "cell_type": "code",
   "execution_count": 96,
   "metadata": {
    "execution": {
     "iopub.execute_input": "2023-11-13T13:01:11.116473Z",
     "iopub.status.busy": "2023-11-13T13:01:11.116092Z",
     "iopub.status.idle": "2023-11-13T13:01:12.977505Z",
     "shell.execute_reply": "2023-11-13T13:01:12.976541Z",
     "shell.execute_reply.started": "2023-11-13T13:01:11.116445Z"
    }
   },
   "outputs": [
    {
     "name": "stdout",
     "output_type": "stream",
     "text": [
      "Model: \"model\"\n",
      "__________________________________________________________________________________________________\n",
      " Layer (type)                   Output Shape         Param #     Connected to                     \n",
      "==================================================================================================\n",
      " encoder_input (InputLayer)     [(None, 49)]         0           []                               \n",
      "                                                                                                  \n",
      " encoder_embeding (Embedding)   (None, 49, 90)       1495080     ['encoder_input[0][0]']          \n",
      "                                                                                                  \n",
      " lstm (LSTM)                    [(None, 49, 250),    341000      ['encoder_embeding[0][0]']       \n",
      "                                 (None, 250),                                                     \n",
      "                                 (None, 250)]                                                     \n",
      "                                                                                                  \n",
      " decoder_input (InputLayer)     [(None, None)]       0           []                               \n",
      "                                                                                                  \n",
      " lstm_1 (LSTM)                  [(None, 49, 250),    501000      ['lstm[0][0]']                   \n",
      "                                 (None, 250),                                                     \n",
      "                                 (None, 250)]                                                     \n",
      "                                                                                                  \n",
      " embedding (Embedding)          (None, None, 90)     659610      ['decoder_input[0][0]']          \n",
      "                                                                                                  \n",
      " lstm_2 (LSTM)                  [(None, 49, 250),    501000      ['lstm_1[0][0]']                 \n",
      "                                 (None, 250),                                                     \n",
      "                                 (None, 250)]                                                     \n",
      "                                                                                                  \n",
      " lstm_3 (LSTM)                  [(None, None, 250),  341000      ['embedding[0][0]',              \n",
      "                                 (None, 250),                     'lstm_2[0][1]',                 \n",
      "                                 (None, 250)]                     'lstm_2[0][2]']                 \n",
      "                                                                                                  \n",
      " attention_layer (AttentionLaye  ((None, None, 250),  125250     ['lstm_2[0][0]',                 \n",
      " r)                              (None, None, 49))                'lstm_3[0][0]']                 \n",
      "                                                                                                  \n",
      " decoder_concat (Concatenate)   (None, None, 500)    0           ['lstm_3[0][0]',                 \n",
      "                                                                  'attention_layer[0][0]']        \n",
      "                                                                                                  \n",
      " time_distributed (TimeDistribu  (None, None, 7329)  3671829     ['decoder_concat[0][0]']         \n",
      " ted)                                                                                             \n",
      "                                                                                                  \n",
      "==================================================================================================\n",
      "Total params: 7,635,769\n",
      "Trainable params: 7,635,769\n",
      "Non-trainable params: 0\n",
      "__________________________________________________________________________________________________\n"
     ]
    }
   ],
   "source": [
    "from keras import backend as K \n",
    "K.clear_session() \n",
    "embedding_dim = 90 #Size of word embeddings.\n",
    "latent_dim = 250 #No. of neurons in LSTM layer.\n",
    "\n",
    "# Encoder \n",
    "encoder_inputs = Input(shape=(max_text_len,), name=\"encoder_input\") \n",
    "enc_emb = Embedding(X_voc, embedding_dim,trainable=True,name=\"encoder_embeding\")(encoder_inputs) \n",
    "\n",
    "#LSTM 1 \n",
    "encoder_lstm1 = LSTM(latent_dim,return_sequences=True,return_state=True) \n",
    "encoder_output1, state_h1, state_c1 = encoder_lstm1(enc_emb) \n",
    "\n",
    "#LSTM 2 \n",
    "encoder_lstm2 = LSTM(latent_dim,return_sequences=True,return_state=True) \n",
    "encoder_output2, state_h2, state_c2 = encoder_lstm2(encoder_output1) \n",
    "\n",
    "#LSTM 3 \n",
    "encoder_lstm3=LSTM(latent_dim, return_state=True, return_sequences=True) \n",
    "encoder_outputs, state_h, state_c= encoder_lstm3(encoder_output2) \n",
    "#encoder_outputs, state_h, state_c= encoder_lstm3(enc_emb) \n",
    "\n",
    "# Set up the decoder. \n",
    "decoder_inputs = Input(shape=(None,),name=\"decoder_input\") \n",
    "dec_emb_layer = Embedding(y_voc, embedding_dim,trainable=True) \n",
    "dec_emb = dec_emb_layer(decoder_inputs) \n",
    "\n",
    "#LSTM using encoder_states as initial state\n",
    "decoder_lstm = LSTM(latent_dim,return_sequences=True, return_state=True, dropout=0.2, recurrent_dropout=0.4) \n",
    "decoder_outputs,decoder_fwd_state, decoder_back_state = decoder_lstm(dec_emb,initial_state=[state_h, state_c])\n",
    "\n",
    "# Attention Layer \n",
    "attention_layer = AttentionLayer(name=\"attention_layer\")\n",
    "attention_outputs, attention_state = attention_layer([encoder_outputs, decoder_outputs])\n",
    "\n",
    "# concatinate decoder and attention otuputs \n",
    "decoder_concat = Concatenate(axis=-1, name=\"decoder_concat\")([decoder_outputs, attention_outputs])\n",
    "\n",
    "#Dense layer\n",
    "decoder_dense = TimeDistributed(Dense(y_voc, activation='softmax')) \n",
    "decoder_outputs = decoder_dense(decoder_concat) \n",
    "\n",
    "# Define the model\n",
    "model = Model([encoder_inputs, decoder_inputs], decoder_outputs) \n",
    "model.summary()"
   ]
  },
  {
   "cell_type": "code",
   "execution_count": 97,
   "metadata": {
    "execution": {
     "iopub.execute_input": "2023-11-13T13:01:12.980247Z",
     "iopub.status.busy": "2023-11-13T13:01:12.979571Z",
     "iopub.status.idle": "2023-11-13T13:01:12.998404Z",
     "shell.execute_reply": "2023-11-13T13:01:12.997497Z",
     "shell.execute_reply.started": "2023-11-13T13:01:12.980203Z"
    }
   },
   "outputs": [],
   "source": [
    "##using sparse categorical cross-entropy as the loss function since it converts the integer sequence to a one-hot vector on the fly. This overcomes any memory issues.\n",
    "model.compile(optimizer='rmsprop', loss='sparse_categorical_crossentropy') #Root Mean Squared Propagation\n",
    "es = EarlyStopping(monitor='val_loss', mode='min', verbose=1, patience=2)\n",
    "reduce_lr = ReduceLROnPlateau(monitor='val_loss', factor=0.15, patience=2, min_lr=0.0001)"
   ]
  },
  {
   "cell_type": "code",
   "execution_count": 98,
   "metadata": {
    "execution": {
     "iopub.execute_input": "2023-11-13T13:01:12.999659Z",
     "iopub.status.busy": "2023-11-13T13:01:12.999392Z",
     "iopub.status.idle": "2023-11-13T13:04:57.101745Z",
     "shell.execute_reply": "2023-11-13T13:04:57.100805Z",
     "shell.execute_reply.started": "2023-11-13T13:01:12.999628Z"
    }
   },
   "outputs": [
    {
     "name": "stdout",
     "output_type": "stream",
     "text": [
      "Epoch 1/20\n",
      "241/241 [==============================] - 42s 127ms/step - loss: 6.2522 - val_loss: 5.0709 - lr: 0.0010\n",
      "Epoch 2/20\n",
      "241/241 [==============================] - 19s 80ms/step - loss: 5.8640 - val_loss: 4.9064 - lr: 0.0010\n",
      "Epoch 3/20\n",
      "241/241 [==============================] - 19s 80ms/step - loss: 5.8205 - val_loss: 4.8875 - lr: 0.0010\n",
      "Epoch 4/20\n",
      "241/241 [==============================] - 18s 75ms/step - loss: 5.7744 - val_loss: 4.8722 - lr: 0.0010\n",
      "Epoch 5/20\n",
      "241/241 [==============================] - 18s 76ms/step - loss: 5.7097 - val_loss: 4.8370 - lr: 0.0010\n",
      "Epoch 6/20\n",
      "241/241 [==============================] - 18s 76ms/step - loss: 5.6461 - val_loss: 4.7788 - lr: 0.0010\n",
      "Epoch 7/20\n",
      "241/241 [==============================] - 18s 73ms/step - loss: 5.6022 - val_loss: 4.7931 - lr: 0.0010\n",
      "Epoch 8/20\n",
      "241/241 [==============================] - 18s 74ms/step - loss: 5.5524 - val_loss: 4.7740 - lr: 0.0010\n",
      "Epoch 9/20\n",
      "241/241 [==============================] - 18s 74ms/step - loss: 5.5041 - val_loss: 4.7601 - lr: 0.0010\n",
      "Epoch 10/20\n",
      "241/241 [==============================] - 18s 75ms/step - loss: 5.4489 - val_loss: 4.7767 - lr: 0.0010\n",
      "Epoch 11/20\n",
      "241/241 [==============================] - 17s 72ms/step - loss: 5.3930 - val_loss: 4.8009 - lr: 0.0010\n",
      "Epoch 11: early stopping\n"
     ]
    }
   ],
   "source": [
    "history = model.fit([X_tr,y_tr[:,:-1]], y_tr.reshape(y_tr.shape[0],y_tr.shape[1], 1)[:,1:], batch_size=15, epochs=20, validation_data=([X_val,y_val[:,:-1]], y_val.reshape(y_val.shape[0],y_val.shape[1], 1)[:,1:]), callbacks=[es,reduce_lr])"
   ]
  },
  {
   "cell_type": "code",
   "execution_count": 100,
   "metadata": {
    "execution": {
     "iopub.execute_input": "2023-11-13T13:05:11.866092Z",
     "iopub.status.busy": "2023-11-13T13:05:11.865476Z",
     "iopub.status.idle": "2023-11-13T13:05:12.131440Z",
     "shell.execute_reply": "2023-11-13T13:05:12.130505Z",
     "shell.execute_reply.started": "2023-11-13T13:05:11.866057Z"
    }
   },
   "outputs": [
    {
     "data": {
      "image/png": "[encoded data removed]",
      "text/plain": [
       "<Figure size 640x480 with 1 Axes>"
      ]
     },
     "metadata": {},
     "output_type": "display_data"
    }
   ],
   "source": [
    "from matplotlib import pyplot\n",
    "pyplot.plot(history.history['loss'], label='train')\n",
    "pyplot.plot(history.history['val_loss'], label='validation')\n",
    "pyplot.legend()\n",
    "pyplot.show()"
   ]
  },
  {
   "cell_type": "markdown",
   "metadata": {},
   "source": [
    "## Model testing and Evaluation"
   ]
  },
  {
   "cell_type": "code",
   "execution_count": 101,
   "metadata": {
    "execution": {
     "iopub.execute_input": "2023-11-13T13:05:18.605506Z",
     "iopub.status.busy": "2023-11-13T13:05:18.605112Z",
     "iopub.status.idle": "2023-11-13T13:05:18.630148Z",
     "shell.execute_reply": "2023-11-13T13:05:18.629240Z",
     "shell.execute_reply.started": "2023-11-13T13:05:18.605472Z"
    }
   },
   "outputs": [],
   "source": [
    "import pickle\n",
    "# save the tokenizer \n",
    "with open('xtokenizer.pickle', 'wb') as handle:\n",
    "    pickle.dump(X_tokenizer, handle, protocol=pickle.HIGHEST_PROTOCOL)\n",
    "\n",
    "with open('ytokenizer.pickle', 'wb') as handle:\n",
    "    pickle.dump(y_tokenizer, handle, protocol=pickle.HIGHEST_PROTOCOL)"
   ]
  },
  {
   "cell_type": "code",
   "execution_count": 102,
   "metadata": {
    "execution": {
     "iopub.execute_input": "2023-11-13T13:05:19.026116Z",
     "iopub.status.busy": "2023-11-13T13:05:19.025575Z",
     "iopub.status.idle": "2023-11-13T13:05:19.030181Z",
     "shell.execute_reply": "2023-11-13T13:05:19.029456Z",
     "shell.execute_reply.started": "2023-11-13T13:05:19.026087Z"
    }
   },
   "outputs": [],
   "source": [
    "# set tokenizerz for predictions\n",
    "reverse_target_word_index=y_tokenizer.index_word\n",
    "reverse_source_word_index=X_tokenizer.index_word\n",
    "target_word_index=y_tokenizer.word_index"
   ]
  },
  {
   "cell_type": "code",
   "execution_count": 103,
   "metadata": {
    "execution": {
     "iopub.execute_input": "2023-11-13T13:05:20.034293Z",
     "iopub.status.busy": "2023-11-13T13:05:20.033516Z",
     "iopub.status.idle": "2023-11-13T13:05:20.314585Z",
     "shell.execute_reply": "2023-11-13T13:05:20.313743Z",
     "shell.execute_reply.started": "2023-11-13T13:05:20.034262Z"
    }
   },
   "outputs": [],
   "source": [
    "# Encode the input sequence to get the feature vector\n",
    "encoder_model = Model(inputs=encoder_inputs,outputs=[encoder_outputs, state_h, state_c])\n",
    "\n",
    "# Decoder setup\n",
    "# Below tensors will hold the states of the previous time step\n",
    "decoder_state_input_h = Input(shape=(latent_dim,))\n",
    "decoder_state_input_c = Input(shape=(latent_dim,))\n",
    "decoder_hidden_state_input = Input(shape=(max_text_len,latent_dim))\n",
    "\n",
    "# Get the embeddings of the decoder sequence\n",
    "dec_emb_pred= dec_emb_layer(decoder_inputs) \n",
    "# To predict the next word in the sequence, set the initial states to the states from the previous time step\n",
    "decoder_outputs_p, state_h_p, state_c_p = decoder_lstm(dec_emb_pred, initial_state=[decoder_state_input_h, decoder_state_input_c])\n",
    "\n",
    "# Attention\n",
    "attention_out_inference, attention_state_inference = attention_layer([decoder_hidden_state_input, decoder_outputs_p])\n",
    "decoder_concat = Concatenate(axis=-1, name=\"concat_attention\")([decoder_outputs_p, attention_out_inference])\n",
    "\n",
    "# A dense softmax layer to generate prob dist. over the target vocabulary\n",
    "decoder_final_outputs = decoder_dense(decoder_concat) \n",
    "\n",
    "# Final decoder model\n",
    "decoder_model = Model(\n",
    "    [decoder_inputs] + [decoder_hidden_state_input,decoder_state_input_h, decoder_state_input_c],\n",
    "    [decoder_final_outputs] + [state_h_p, state_c_p])"
   ]
  },
  {
   "cell_type": "code",
   "execution_count": 104,
   "metadata": {
    "execution": {
     "iopub.execute_input": "2023-11-13T13:05:21.174830Z",
     "iopub.status.busy": "2023-11-13T13:05:21.173922Z",
     "iopub.status.idle": "2023-11-13T13:05:21.183046Z",
     "shell.execute_reply": "2023-11-13T13:05:21.181960Z",
     "shell.execute_reply.started": "2023-11-13T13:05:21.174794Z"
    }
   },
   "outputs": [],
   "source": [
    "def decode_sequence(input_seq):\n",
    "    # Encode the input as state vectors.\n",
    "    e_out, e_h, e_c = encoder_model.predict(input_seq, verbose=None)\n",
    "    \n",
    "    # Generate empty target sequence of length 1.\n",
    "    target_seq = np.zeros((1,1))\n",
    "    \n",
    "    # Populate the first word of target sequence with the start word.\n",
    "    target_seq[0, 0] = target_word_index['sostok']\n",
    "\n",
    "    stop_condition = False\n",
    "    decoded_sentence = ''\n",
    "    while not stop_condition:\n",
    "      \n",
    "        output_tokens, h, c = decoder_model.predict([target_seq] + [e_out, e_h, e_c])\n",
    "\n",
    "        # predict token\n",
    "        predict_token_index = np.argmax(output_tokens[0, -1, :])\n",
    "        predict_token = reverse_target_word_index[predict_token_index]\n",
    "        \n",
    "        if(predict_token!='eostok'):\n",
    "            decoded_sentence += ' '+predict_token\n",
    "\n",
    "        # Exit condition: either hit max length or find stop word.\n",
    "        if (predict_token == 'eostok'  or len(decoded_sentence.split()) >= (max_summary_len-1)):\n",
    "            stop_condition = True\n",
    "\n",
    "        # Update the target sequence (of length 1).\n",
    "        target_seq = np.zeros((1,1))\n",
    "        target_seq[0, 0] = predict_token_index\n",
    "\n",
    "        # Update internal states\n",
    "        e_h, e_c = h, c\n",
    "\n",
    "    return decoded_sentence"
   ]
  },
  {
   "cell_type": "code",
   "execution_count": 105,
   "metadata": {
    "execution": {
     "iopub.execute_input": "2023-11-13T13:05:21.684147Z",
     "iopub.status.busy": "2023-11-13T13:05:21.683542Z",
     "iopub.status.idle": "2023-11-13T13:05:21.751310Z",
     "shell.execute_reply": "2023-11-13T13:05:21.750539Z",
     "shell.execute_reply.started": "2023-11-13T13:05:21.684117Z"
    }
   },
   "outputs": [],
   "source": [
    "X_test_seq = X_tokenizer.texts_to_sequences(X_test)\n",
    "X_test_pad = pad_sequences(X_test_seq, maxlen=max_text_len, padding=\"post\")\n",
    "y_test_seq = y_tokenizer.texts_to_sequences(y_test)\n",
    "y_test_pad = pad_sequences(y_test_seq, maxlen=max_summary_len, padding=\"post\")"
   ]
  },
  {
   "cell_type": "code",
   "execution_count": 106,
   "metadata": {
    "execution": {
     "iopub.execute_input": "2023-11-13T13:05:22.318050Z",
     "iopub.status.busy": "2023-11-13T13:05:22.317458Z",
     "iopub.status.idle": "2023-11-13T13:05:22.325357Z",
     "shell.execute_reply": "2023-11-13T13:05:22.324305Z",
     "shell.execute_reply.started": "2023-11-13T13:05:22.318020Z"
    }
   },
   "outputs": [],
   "source": [
    "#define the functions to convert an integer sequence to a word sequence for summary \n",
    "def seq2summary(input_seq):\n",
    "    newString=''\n",
    "    for i in input_seq:\n",
    "        if((i!=0 and i!=target_word_index['sostok']) and i!=target_word_index['eostok']):\n",
    "            newString=newString+reverse_target_word_index[i]+\" \"\n",
    "    return newString\n",
    "\n",
    "def seq2text(input_seq):\n",
    "    newString=''\n",
    "    for i in input_seq:\n",
    "        if(i!=0):\n",
    "            newString=newString+reverse_source_word_index[i]+\" \"\n",
    "    return newString"
   ]
  },
  {
   "cell_type": "code",
   "execution_count": 108,
   "metadata": {
    "execution": {
     "iopub.execute_input": "2023-11-13T13:06:01.894338Z",
     "iopub.status.busy": "2023-11-13T13:06:01.893961Z",
     "iopub.status.idle": "2023-11-13T13:06:04.625871Z",
     "shell.execute_reply": "2023-11-13T13:06:04.624789Z",
     "shell.execute_reply.started": "2023-11-13T13:06:01.894309Z"
    }
   },
   "outputs": [
    {
     "name": "stdout",
     "output_type": "stream",
     "text": [
      "News: saurav kant alumnus upgrad iiit pg program machine learning artificial intelligence sr systems engineer infosys almost years work experience program upgrad degree career support helped transition data scientist tech mahindra salary hike upgrad online power learning powered lakh careers\n",
      "Actual Headline: sostok upgrad learner switches career ml al salary hike eostok\n",
      "1/1 [==============================] - 0s 24ms/step\n",
      "1/1 [==============================] - 0s 24ms/step\n",
      "1/1 [==============================] - 0s 23ms/step\n",
      "1/1 [==============================] - 0s 24ms/step\n",
      "1/1 [==============================] - 0s 23ms/step\n",
      "1/1 [==============================] - 0s 23ms/step\n",
      "1/1 [==============================] - 0s 24ms/step\n",
      "Predicted Headline:  india india india says says says\n",
      "News: kunal shah credit card bill payment platform cred gave users chance win free food swiggy one year pranav kaushik delhi techie bagged reward spending cred coins users get one cred coin per rupee bill paid used avail rewards brands like ixigo bookmyshow ubereats cult fit\n",
      "Actual Headline: sostok delhi techie wins free food swiggy one year cred eostok\n",
      "1/1 [==============================] - 0s 23ms/step\n",
      "1/1 [==============================] - 0s 22ms/step\n",
      "1/1 [==============================] - 0s 22ms/step\n",
      "1/1 [==============================] - 0s 23ms/step\n",
      "1/1 [==============================] - 0s 26ms/step\n",
      "1/1 [==============================] - 0s 23ms/step\n",
      "Predicted Headline:  india india india india india\n",
      "News: new zealand defeated india wickets fourth odi hamilton thursday win first match five match odi series india lost international match rohit sharma captaincy consecutive victories dating back march match witnessed india getting seventh lowest total odi cricket history\n",
      "Actual Headline: sostok new zealand end rohit sharma led india match winning streak eostok\n",
      "1/1 [==============================] - 0s 23ms/step\n",
      "1/1 [==============================] - 0s 33ms/step\n",
      "1/1 [==============================] - 0s 29ms/step\n",
      "1/1 [==============================] - 0s 34ms/step\n",
      "1/1 [==============================] - 0s 24ms/step\n",
      "1/1 [==============================] - 0s 24ms/step\n",
      "1/1 [==============================] - 0s 26ms/step\n",
      "1/1 [==============================] - 0s 24ms/step\n",
      "Predicted Headline:  kohli kohli kohli kohli film film film\n",
      "News: aegon life iterm insurance plan customers enjoy tax benefits premiums paid save taxes plan provides life cover age years also customers options insure critical illnesses disability accidental death benefit rider life cover age years\n",
      "Actual Headline: sostok aegon life iterm insurance plan helps customers save tax eostok\n",
      "1/1 [==============================] - 0s 23ms/step\n",
      "1/1 [==============================] - 0s 23ms/step\n",
      "1/1 [==============================] - 0s 23ms/step\n",
      "1/1 [==============================] - 0s 23ms/step\n",
      "1/1 [==============================] - 0s 27ms/step\n",
      "1/1 [==============================] - 0s 24ms/step\n",
      "1/1 [==============================] - 0s 28ms/step\n",
      "Predicted Headline:  india india india india says says\n",
      "News: speaking sexual harassment allegations rajkumar hirani sonam kapoor said known hirani many years true metoo movement get derailed metoo movement always believe woman case need reserve judgment added hirani accused assistant worked sanju\n",
      "Actual Headline: sostok known hirani yrs metoo claims true sonam eostok\n",
      "1/1 [==============================] - 0s 23ms/step\n",
      "1/1 [==============================] - 0s 22ms/step\n",
      "1/1 [==============================] - 0s 23ms/step\n",
      "1/1 [==============================] - 0s 22ms/step\n",
      "1/1 [==============================] - 0s 24ms/step\n",
      "1/1 [==============================] - 0s 23ms/step\n",
      "Predicted Headline:  akshay kohli world says says\n"
     ]
    }
   ],
   "source": [
    "for i in range(5):\n",
    "    print('News:', X_test[i])\n",
    "    print('Actual Headline:', y_test[i])\n",
    "    print('Predicted Headline:', decode_sequence(X_test_pad[i].reshape(1, max_text_len)))"
   ]
  },
  {
   "cell_type": "code",
   "execution_count": 109,
   "metadata": {
    "execution": {
     "iopub.execute_input": "2023-11-13T13:06:13.076418Z",
     "iopub.status.busy": "2023-11-13T13:06:13.076050Z",
     "iopub.status.idle": "2023-11-13T13:14:55.556472Z",
     "shell.execute_reply": "2023-11-13T13:14:55.555443Z",
     "shell.execute_reply.started": "2023-11-13T13:06:13.076387Z"
    }
   },
   "outputs": [],
   "source": [
    "%%capture --no-display\n",
    "predicted = []\n",
    "for i in range(len(X_test)):\n",
    "    predicted.append(decode_sequence(X_test_pad[i].reshape(1, max_text_len)).split())"
   ]
  },
  {
   "cell_type": "code",
   "execution_count": 129,
   "metadata": {
    "execution": {
     "iopub.execute_input": "2023-11-13T13:20:54.775159Z",
     "iopub.status.busy": "2023-11-13T13:20:54.774448Z",
     "iopub.status.idle": "2023-11-13T13:20:54.781734Z",
     "shell.execute_reply": "2023-11-13T13:20:54.780794Z",
     "shell.execute_reply.started": "2023-11-13T13:20:54.775127Z"
    }
   },
   "outputs": [],
   "source": [
    "summaries = list(y_test)\n",
    "references = []\n",
    "for summ in summaries:\n",
    "    ref = summ.split()\n",
    "    ref.remove('eostok')\n",
    "    ref.remove('sostok')\n",
    "    references.append(ref)"
   ]
  },
  {
   "cell_type": "code",
   "execution_count": 130,
   "metadata": {
    "execution": {
     "iopub.execute_input": "2023-11-13T13:20:55.346607Z",
     "iopub.status.busy": "2023-11-13T13:20:55.345798Z",
     "iopub.status.idle": "2023-11-13T13:20:55.351695Z",
     "shell.execute_reply": "2023-11-13T13:20:55.350776Z",
     "shell.execute_reply.started": "2023-11-13T13:20:55.346572Z"
    }
   },
   "outputs": [],
   "source": [
    "lstm_predicted = pd.DataFrame({'summary':references,'generated_summary':predicted})"
   ]
  },
  {
   "cell_type": "code",
   "execution_count": 131,
   "metadata": {
    "execution": {
     "iopub.execute_input": "2023-11-13T13:20:56.082753Z",
     "iopub.status.busy": "2023-11-13T13:20:56.082390Z",
     "iopub.status.idle": "2023-11-13T13:20:56.090954Z",
     "shell.execute_reply": "2023-11-13T13:20:56.090008Z",
     "shell.execute_reply.started": "2023-11-13T13:20:56.082722Z"
    }
   },
   "outputs": [],
   "source": [
    "lstm_predicted['summary'] = lstm_predicted['summary'].str.join(\" \")\n",
    "lstm_predicted['generated_summary'] = lstm_predicted['generated_summary'].str.join(\" \")"
   ]
  },
  {
   "cell_type": "code",
   "execution_count": 132,
   "metadata": {
    "execution": {
     "iopub.execute_input": "2023-11-13T13:20:57.192742Z",
     "iopub.status.busy": "2023-11-13T13:20:57.192354Z",
     "iopub.status.idle": "2023-11-13T13:20:57.202613Z",
     "shell.execute_reply": "2023-11-13T13:20:57.201578Z",
     "shell.execute_reply.started": "2023-11-13T13:20:57.192685Z"
    }
   },
   "outputs": [
    {
     "data": {
      "text/html": [
       "<div>\n",
       "<style scoped>\n",
       "    .dataframe tbody tr th:only-of-type {\n",
       "        vertical-align: middle;\n",
       "    }\n",
       "\n",
       "    .dataframe tbody tr th {\n",
       "        vertical-align: top;\n",
       "    }\n",
       "\n",
       "    .dataframe thead th {\n",
       "        text-align: right;\n",
       "    }\n",
       "</style>\n",
       "<table border=\"1\" class=\"dataframe\">\n",
       "  <thead>\n",
       "    <tr style=\"text-align: right;\">\n",
       "      <th></th>\n",
       "      <th>summary</th>\n",
       "      <th>generated_summary</th>\n",
       "    </tr>\n",
       "  </thead>\n",
       "  <tbody>\n",
       "    <tr>\n",
       "      <th>0</th>\n",
       "      <td>upgrad learner switches career ml al salary hike</td>\n",
       "      <td>india india india says says says</td>\n",
       "    </tr>\n",
       "    <tr>\n",
       "      <th>1</th>\n",
       "      <td>delhi techie wins free food swiggy one year cred</td>\n",
       "      <td>india india india india india</td>\n",
       "    </tr>\n",
       "    <tr>\n",
       "      <th>2</th>\n",
       "      <td>new zealand end rohit sharma led india match winning streak</td>\n",
       "      <td>kohli kohli kohli kohli film film film</td>\n",
       "    </tr>\n",
       "    <tr>\n",
       "      <th>3</th>\n",
       "      <td>aegon life iterm insurance plan helps customers save tax</td>\n",
       "      <td>india india india india says says</td>\n",
       "    </tr>\n",
       "    <tr>\n",
       "      <th>4</th>\n",
       "      <td>known hirani yrs metoo claims true sonam</td>\n",
       "      <td>akshay kohli world says says</td>\n",
       "    </tr>\n",
       "  </tbody>\n",
       "</table>\n",
       "</div>"
      ],
      "text/plain": [
       "                                                       summary  \\\n",
       "0             upgrad learner switches career ml al salary hike   \n",
       "1             delhi techie wins free food swiggy one year cred   \n",
       "2  new zealand end rohit sharma led india match winning streak   \n",
       "3     aegon life iterm insurance plan helps customers save tax   \n",
       "4                     known hirani yrs metoo claims true sonam   \n",
       "\n",
       "                        generated_summary  \n",
       "0        india india india says says says  \n",
       "1           india india india india india  \n",
       "2  kohli kohli kohli kohli film film film  \n",
       "3       india india india india says says  \n",
       "4            akshay kohli world says says  "
      ]
     },
     "execution_count": 132,
     "metadata": {},
     "output_type": "execute_result"
    }
   ],
   "source": [
    "lstm_predicted.head()"
   ]
  },
  {
   "cell_type": "code",
   "execution_count": 133,
   "metadata": {
    "execution": {
     "iopub.execute_input": "2023-11-13T13:21:05.105559Z",
     "iopub.status.busy": "2023-11-13T13:21:05.104698Z",
     "iopub.status.idle": "2023-11-13T13:21:06.630485Z",
     "shell.execute_reply": "2023-11-13T13:21:06.629448Z",
     "shell.execute_reply.started": "2023-11-13T13:21:05.105526Z"
    }
   },
   "outputs": [
    {
     "name": "stdout",
     "output_type": "stream",
     "text": [
      "ROUGE - 1 :  0.024607843953432188\n",
      "ROUGE - 2 :  0.0022635947385947386\n",
      "ROUGE - L :  0.024474510620098856\n"
     ]
    }
   ],
   "source": [
    "def calculate_rouge(data):\n",
    "    scorer = rouge_scorer.RougeScorer(['rouge1', 'rouge2', 'rougeL'], use_stemmer=True)\n",
    "    data[\"r1_fscore\"] = data.apply(lambda row : scorer.score(row[\"summary\"],row[\"generated_summary\"])['rouge1'][2], axis=1)\n",
    "    data[\"r2_fscore\"] = data.apply(lambda row : scorer.score(row[\"summary\"],row[\"generated_summary\"])['rouge2'][2], axis=1)\n",
    "    data[\"rl_fscore\"] = data.apply(lambda row : scorer.score(row[\"summary\"],row[\"generated_summary\"])['rougeL'][2], axis=1)\n",
    "    return data\n",
    "\n",
    "score_ret=calculate_rouge(lstm_predicted)\n",
    "\n",
    "print(\"ROUGE - 1 : \",score_ret[\"r1_fscore\"].mean())\n",
    "print(\"ROUGE - 2 : \",score_ret[\"r2_fscore\"].mean())\n",
    "print(\"ROUGE - L : \",score_ret[\"rl_fscore\"].mean())"
   ]
  },
  {
   "cell_type": "markdown",
   "metadata": {},
   "source": [
    "# T5 Transformer"
   ]
  },
  {
   "cell_type": "code",
   "execution_count": 19,
   "metadata": {
    "execution": {
     "iopub.execute_input": "2023-11-13T23:11:22.513697Z",
     "iopub.status.busy": "2023-11-13T23:11:22.513340Z",
     "iopub.status.idle": "2023-11-13T23:11:26.928400Z",
     "shell.execute_reply": "2023-11-13T23:11:26.927626Z",
     "shell.execute_reply.started": "2023-11-13T23:11:22.513671Z"
    }
   },
   "outputs": [],
   "source": [
    "import numpy as np\n",
    "import pandas as pd\n",
    "import torch\n",
    "import torch.nn.functional as F\n",
    "from torch.utils.data import Dataset, DataLoader, RandomSampler, SequentialSampler\n",
    "\n",
    "# Importing the T5 modules from huggingface/transformers\n",
    "from transformers import T5Tokenizer, T5ForConditionalGeneration"
   ]
  },
  {
   "cell_type": "code",
   "execution_count": 20,
   "metadata": {
    "execution": {
     "iopub.execute_input": "2023-11-13T23:11:26.930283Z",
     "iopub.status.busy": "2023-11-13T23:11:26.930003Z",
     "iopub.status.idle": "2023-11-13T23:11:26.959199Z",
     "shell.execute_reply": "2023-11-13T23:11:26.958233Z",
     "shell.execute_reply.started": "2023-11-13T23:11:26.930258Z"
    }
   },
   "outputs": [],
   "source": [
    "# # Setting up the device for GPU usage\n",
    "from torch import cuda\n",
    "device = 'cuda' if cuda.is_available() else 'cpu'"
   ]
  },
  {
   "cell_type": "code",
   "execution_count": 21,
   "metadata": {
    "execution": {
     "iopub.execute_input": "2023-11-13T23:11:26.960888Z",
     "iopub.status.busy": "2023-11-13T23:11:26.960581Z",
     "iopub.status.idle": "2023-11-13T23:11:26.972686Z",
     "shell.execute_reply": "2023-11-13T23:11:26.971791Z",
     "shell.execute_reply.started": "2023-11-13T23:11:26.960837Z"
    }
   },
   "outputs": [],
   "source": [
    "# Creating a custom dataset for reading the dataframe and loading it into the dataloader to pass it to the neural network at a later stage for finetuning the model and to prepare it for predictions\n",
    "class CustomDataset(Dataset):\n",
    "\n",
    "    def __init__(self, dataframe, tokenizer, source_len, summ_len):\n",
    "        self.tokenizer = tokenizer\n",
    "        self.data = dataframe\n",
    "        self.source_len = source_len\n",
    "        self.summ_len = summ_len\n",
    "        self.text = self.data.text\n",
    "        self.headlines = self.data.headlines\n",
    "\n",
    "    def __len__(self):\n",
    "        return len(self.text)\n",
    "\n",
    "    def __getitem__(self, index):\n",
    "        text = str(self.text[index])\n",
    "        text = ' '.join(text.split())\n",
    "\n",
    "        summary = str(self.headlines[index])\n",
    "        summary = ' '.join(summary.split())\n",
    "\n",
    "        source = self.tokenizer.batch_encode_plus([text], max_length= self.source_len, pad_to_max_length=True,return_tensors='pt')\n",
    "        target = self.tokenizer.batch_encode_plus([summary], max_length= self.summ_len, pad_to_max_length=True,return_tensors='pt')\n",
    "\n",
    "        source_ids = source['input_ids'].squeeze()\n",
    "        source_mask = source['attention_mask'].squeeze()\n",
    "        target_ids = target['input_ids'].squeeze()\n",
    "        target_mask = target['attention_mask'].squeeze()\n",
    "\n",
    "        return {\n",
    "            'source_ids': source_ids.to(dtype=torch.long), \n",
    "            'source_mask': source_mask.to(dtype=torch.long), \n",
    "            'target_ids': target_ids.to(dtype=torch.long),\n",
    "            'target_ids_y': target_ids.to(dtype=torch.long)\n",
    "        }"
   ]
  },
  {
   "cell_type": "markdown",
   "metadata": {},
   "source": [
    "Fine Tuning the Model: Function"
   ]
  },
  {
   "cell_type": "code",
   "execution_count": 22,
   "metadata": {
    "execution": {
     "iopub.execute_input": "2023-11-13T23:11:26.975436Z",
     "iopub.status.busy": "2023-11-13T23:11:26.974649Z",
     "iopub.status.idle": "2023-11-13T23:11:26.986909Z",
     "shell.execute_reply": "2023-11-13T23:11:26.986028Z",
     "shell.execute_reply.started": "2023-11-13T23:11:26.975403Z"
    }
   },
   "outputs": [],
   "source": [
    "# Creating the training function. This will be called in the main function. It is run depending on the epoch value.\n",
    "# The model is put into train mode and then we numerate over the training loader and passed to the defined network \n",
    "def train(epoch, tokenizer, model, device, loader, optimizer):\n",
    "    model.train()\n",
    "    for _,data in enumerate(loader, 0):\n",
    "        y = data['target_ids'].to(device, dtype = torch.long)\n",
    "        y_ids = y[:, :-1].contiguous()\n",
    "        lm_labels = y[:, 1:].clone().detach()\n",
    "        lm_labels[y[:, 1:] == tokenizer.pad_token_id] = -100\n",
    "        ids = data['source_ids'].to(device, dtype = torch.long)\n",
    "        mask = data['source_mask'].to(device, dtype = torch.long)\n",
    "\n",
    "        outputs = model(input_ids = ids, attention_mask = mask, decoder_input_ids=y_ids, labels=lm_labels)\n",
    "        loss = outputs[0]\n",
    "        \n",
    "        if _%100==0:\n",
    "            print(f'Epoch: {epoch}, Loss:  {loss.item()}')\n",
    "        \n",
    "        optimizer.zero_grad()\n",
    "        loss.backward()\n",
    "        optimizer.step()"
   ]
  },
  {
   "cell_type": "markdown",
   "metadata": {},
   "source": [
    "Validating the Model Performance: Function"
   ]
  },
  {
   "cell_type": "code",
   "execution_count": 17,
   "metadata": {
    "execution": {
     "iopub.execute_input": "2023-11-13T23:11:13.355838Z",
     "iopub.status.busy": "2023-11-13T23:11:13.355438Z",
     "iopub.status.idle": "2023-11-13T23:11:13.369240Z",
     "shell.execute_reply": "2023-11-13T23:11:13.368232Z",
     "shell.execute_reply.started": "2023-11-13T23:11:13.355810Z"
    }
   },
   "outputs": [],
   "source": [
    "def validate(epoch, tokenizer, model, device, loader):\n",
    "    model.eval()\n",
    "    predictions = []\n",
    "    actuals = []\n",
    "    with torch.no_grad():\n",
    "        for _, data in enumerate(loader, 0):\n",
    "            y = data['target_ids'].to(device, dtype = torch.long)\n",
    "            ids = data['source_ids'].to(device, dtype = torch.long)\n",
    "            mask = data['source_mask'].to(device, dtype = torch.long)\n",
    "\n",
    "            generated_ids = model.generate(\n",
    "                input_ids = ids,\n",
    "                attention_mask = mask, \n",
    "                max_length=150, \n",
    "                num_beams=2,\n",
    "                repetition_penalty=2.5, \n",
    "                length_penalty=1.0, \n",
    "                early_stopping=True\n",
    "                )\n",
    "            preds = [tokenizer.decode(g, skip_special_tokens=True, clean_up_tokenization_spaces=True) for g in generated_ids]\n",
    "            target = [tokenizer.decode(t, skip_special_tokens=True, clean_up_tokenization_spaces=True)for t in y]\n",
    "            if _%100==0:\n",
    "                print(f'Completed {_}')\n",
    "\n",
    "            predictions.extend(preds)\n",
    "            actuals.extend(target)\n",
    "    return predictions, actuals"
   ]
  },
  {
   "cell_type": "code",
   "execution_count": 23,
   "metadata": {
    "execution": {
     "iopub.execute_input": "2023-11-13T23:11:36.713319Z",
     "iopub.status.busy": "2023-11-13T23:11:36.712939Z",
     "iopub.status.idle": "2023-11-13T23:11:37.578385Z",
     "shell.execute_reply": "2023-11-13T23:11:37.577529Z",
     "shell.execute_reply.started": "2023-11-13T23:11:36.713288Z"
    }
   },
   "outputs": [
    {
     "data": {
      "application/vnd.jupyter.widget-view+json": {
       "model_id": "c0148e40d9e546c9b3432bce782fecf7",
       "version_major": 2,
       "version_minor": 0
      },
      "text/plain": [
       "Downloading (…)ve/main/spiece.model:   0%|          | 0.00/792k [00:00<?, ?B/s]"
      ]
     },
     "metadata": {},
     "output_type": "display_data"
    },
    {
     "data": {
      "application/vnd.jupyter.widget-view+json": {
       "model_id": "4131ab84f8e5438b8868a55f86893025",
       "version_major": 2,
       "version_minor": 0
      },
      "text/plain": [
       "Downloading (…)lve/main/config.json:   0%|          | 0.00/1.21k [00:00<?, ?B/s]"
      ]
     },
     "metadata": {},
     "output_type": "display_data"
    },
    {
     "name": "stderr",
     "output_type": "stream",
     "text": [
      "You are using the default legacy behaviour of the <class 'transformers.models.t5.tokenization_t5.T5Tokenizer'>. If you see this, DO NOT PANIC! This is expected, and simply means that the `legacy` (previous) behavior will be used so nothing changes for you. If you want to use the new behaviour, set `legacy=False`. This should only be set if you understand what it means, and thouroughly read the reason why this was added as explained in https://github.com/huggingface/transformers/pull/24565\n"
     ]
    },
    {
     "name": "stdout",
     "output_type": "stream",
     "text": [
      "FULL Dataset: (4514, 2)\n",
      "TRAIN Dataset: (3611, 2)\n",
      "Validation Dataset: (903, 2)\n",
      "Text Dataset : (1000, 2)\n"
     ]
    }
   ],
   "source": [
    "TRAIN_BATCH_SIZE = 2    # input batch size for training (default: 64)\n",
    "VALID_BATCH_SIZE = 2    # input batch size for testing (default: 1000)\n",
    "TRAIN_EPOCHS = 2        # number of epochs to train (default: 10)\n",
    "VAL_EPOCHS = 1 \n",
    "LEARNING_RATE = 1e-4    # learning rate (default: 0.01)\n",
    "SEED = 15              # random seed\n",
    "\n",
    "# Set random seeds and deterministic pytorch for reproducibility\n",
    "torch.manual_seed(SEED) # pytorch random seed\n",
    "np.random.seed(SEED) # numpy random seed\n",
    "torch.backends.cudnn.deterministic = True\n",
    "\n",
    "# tokenzier for encoding the text\n",
    "tokenizer = T5Tokenizer.from_pretrained(\"t5-base\")\n",
    "\n",
    "\n",
    "# Importing and Pre-Processing the domain data\n",
    "# Selecting the needed columns only. \n",
    "# Adding the summarzie text in front of the text. This is to format the dataset similar to how T5 model was trained for summarization task. \n",
    "df_train = df[['text','headlines']]\n",
    "df_train.text = 'summarize: ' + df_train.text\n",
    "\n",
    "df_test = df_test[['text','headlines']]\n",
    "df_test.text = 'summarize' + df_test.text\n",
    "\n",
    "# Creation of Dataset and Dataloader\n",
    "# Defining the train size. So 80% of the data will be used for training and the rest will be used for validation. \n",
    "train_size = 0.8\n",
    "train_dataset=df_train.sample(frac=train_size, random_state = SEED).reset_index(drop=True)\n",
    "val_dataset=df_train.drop(train_dataset.index).reset_index(drop=True)\n",
    "\n",
    "print(\"FULL Dataset: {}\".format(df_train.shape))\n",
    "print(\"TRAIN Dataset: {}\".format(train_dataset.shape))\n",
    "print(\"Validation Dataset: {}\".format(val_dataset.shape))\n",
    "print('Text Dataset : {}'.format(df_test.shape))"
   ]
  },
  {
   "cell_type": "code",
   "execution_count": 24,
   "metadata": {
    "execution": {
     "iopub.execute_input": "2023-11-13T23:11:37.580178Z",
     "iopub.status.busy": "2023-11-13T23:11:37.579806Z",
     "iopub.status.idle": "2023-11-13T23:11:37.588507Z",
     "shell.execute_reply": "2023-11-13T23:11:37.587516Z",
     "shell.execute_reply.started": "2023-11-13T23:11:37.580144Z"
    }
   },
   "outputs": [],
   "source": [
    "# Creating the Training and Validation dataset for further creation of Dataloader\n",
    "training_set = CustomDataset(train_dataset, tokenizer, max_text_len, max_summary_len)\n",
    "val_set = CustomDataset(val_dataset, tokenizer, max_text_len, max_summary_len)\n",
    "test_set =  CustomDataset(df_test, tokenizer, max_text_len, max_summary_len)\n",
    "# Defining the parameters for creation of dataloaders\n",
    "train_params = {\n",
    "    'batch_size': TRAIN_BATCH_SIZE,\n",
    "    'shuffle': True,\n",
    "    'num_workers': 0\n",
    "    }\n",
    "\n",
    "val_params = {\n",
    "    'batch_size': VALID_BATCH_SIZE,\n",
    "    'shuffle': False,\n",
    "    'num_workers': 0\n",
    "    }\n",
    "\n",
    "# Creation of Dataloaders for testing and validation. This will be used down for training and validation stage for the model.\n",
    "training_loader = DataLoader(training_set, **train_params)\n",
    "val_loader = DataLoader(val_set, **val_params)\n",
    "test_loader = DataLoader (test_set, **val_params)"
   ]
  },
  {
   "cell_type": "code",
   "execution_count": 25,
   "metadata": {
    "execution": {
     "iopub.execute_input": "2023-11-13T23:11:38.058653Z",
     "iopub.status.busy": "2023-11-13T23:11:38.057784Z",
     "iopub.status.idle": "2023-11-13T23:18:53.413558Z",
     "shell.execute_reply": "2023-11-13T23:18:53.412492Z",
     "shell.execute_reply.started": "2023-11-13T23:11:38.058620Z"
    }
   },
   "outputs": [
    {
     "data": {
      "application/vnd.jupyter.widget-view+json": {
       "model_id": "d74e7a1d0f0649c5a15965b5fe9aace8",
       "version_major": 2,
       "version_minor": 0
      },
      "text/plain": [
       "Downloading model.safetensors:   0%|          | 0.00/892M [00:00<?, ?B/s]"
      ]
     },
     "metadata": {},
     "output_type": "display_data"
    },
    {
     "data": {
      "application/vnd.jupyter.widget-view+json": {
       "model_id": "46ffac37cff4484285a831089493e167",
       "version_major": 2,
       "version_minor": 0
      },
      "text/plain": [
       "Downloading (…)neration_config.json:   0%|          | 0.00/147 [00:00<?, ?B/s]"
      ]
     },
     "metadata": {},
     "output_type": "display_data"
    },
    {
     "name": "stderr",
     "output_type": "stream",
     "text": [
      "Truncation was not explicitly activated but `max_length` is provided a specific value, please use `truncation=True` to explicitly truncate examples to max length. Defaulting to 'longest_first' truncation strategy. If you encode pairs of sequences (GLUE-style) with the tokenizer you can select this strategy more precisely by providing a specific strategy to `truncation`.\n"
     ]
    },
    {
     "name": "stdout",
     "output_type": "stream",
     "text": [
      "Initiating Fine-Tuning for the model on our dataset\n",
      "Epoch: 0, Loss:  7.258360862731934\n",
      "Epoch: 0, Loss:  3.2665698528289795\n",
      "Epoch: 0, Loss:  2.33552622795105\n",
      "Epoch: 0, Loss:  3.1891794204711914\n",
      "Epoch: 0, Loss:  1.965980887413025\n",
      "Epoch: 0, Loss:  2.669278621673584\n",
      "Epoch: 0, Loss:  2.984703540802002\n",
      "Epoch: 0, Loss:  1.8937631845474243\n",
      "Epoch: 0, Loss:  2.2124156951904297\n",
      "Epoch: 0, Loss:  2.9236392974853516\n",
      "Epoch: 0, Loss:  2.3356661796569824\n",
      "Epoch: 0, Loss:  2.3376195430755615\n",
      "Epoch: 0, Loss:  1.4691359996795654\n",
      "Epoch: 0, Loss:  1.9940359592437744\n",
      "Epoch: 0, Loss:  2.040010929107666\n",
      "Epoch: 0, Loss:  2.5996530055999756\n",
      "Epoch: 0, Loss:  1.244724988937378\n",
      "Epoch: 0, Loss:  0.9348486661911011\n",
      "Epoch: 0, Loss:  3.1507134437561035\n",
      "Epoch: 1, Loss:  0.6395046710968018\n",
      "Epoch: 1, Loss:  1.4232113361358643\n",
      "Epoch: 1, Loss:  1.171932339668274\n",
      "Epoch: 1, Loss:  1.4015607833862305\n",
      "Epoch: 1, Loss:  0.7478516697883606\n",
      "Epoch: 1, Loss:  1.4645543098449707\n",
      "Epoch: 1, Loss:  0.5528285503387451\n",
      "Epoch: 1, Loss:  0.8139178156852722\n",
      "Epoch: 1, Loss:  1.4432556629180908\n",
      "Epoch: 1, Loss:  0.7566579580307007\n",
      "Epoch: 1, Loss:  1.7937713861465454\n",
      "Epoch: 1, Loss:  1.6774883270263672\n",
      "Epoch: 1, Loss:  1.81239914894104\n",
      "Epoch: 1, Loss:  0.39007067680358887\n",
      "Epoch: 1, Loss:  0.42700186371803284\n",
      "Epoch: 1, Loss:  0.6523677706718445\n",
      "Epoch: 1, Loss:  1.6419036388397217\n",
      "Epoch: 1, Loss:  0.6746034622192383\n",
      "Epoch: 1, Loss:  1.9316856861114502\n"
     ]
    }
   ],
   "source": [
    "# Defining the model. We are using t5-base model and added a Language model layer on top for generation of Summary. \n",
    "# Further this model is sent to device (GPU/TPU) for using the hardware.\n",
    "model = T5ForConditionalGeneration.from_pretrained(\"t5-base\")\n",
    "model = model.to(device)\n",
    "\n",
    "# Defining the optimizer that will be used to tune the weights of the network in the training session. \n",
    "optimizer = torch.optim.Adam(params =  model.parameters(), lr=LEARNING_RATE)\n",
    "\n",
    "# Training loop\n",
    "print('Initiating Fine-Tuning for the model on our dataset')\n",
    "\n",
    "for epoch in range(TRAIN_EPOCHS):\n",
    "    train(epoch, tokenizer, model, device, training_loader, optimizer)\n",
    "    #train(epoch,tokenzier,model,device,val_loader,optimizer)"
   ]
  },
  {
   "cell_type": "code",
   "execution_count": 26,
   "metadata": {
    "execution": {
     "iopub.execute_input": "2023-11-13T23:18:53.417420Z",
     "iopub.status.busy": "2023-11-13T23:18:53.417078Z",
     "iopub.status.idle": "2023-11-13T23:22:07.130164Z",
     "shell.execute_reply": "2023-11-13T23:22:07.129195Z",
     "shell.execute_reply.started": "2023-11-13T23:18:53.417394Z"
    }
   },
   "outputs": [
    {
     "name": "stdout",
     "output_type": "stream",
     "text": [
      "Now generating summaries on our fine tuned model for the validation dataset and saving it in a dataframe\n",
      "Completed 0\n",
      "Completed 100\n",
      "Completed 200\n",
      "Completed 300\n",
      "Completed 400\n"
     ]
    }
   ],
   "source": [
    "\n",
    "print('Now generating summaries on our fine tuned model for the test dataset and saving it in a dataframe')\n",
    "for epoch in range(VAL_EPOCHS):\n",
    "    predictions, actuals = validate(epoch, tokenizer, model, device, test_loader)\n",
    "    t5_predict = pd.DataFrame({'generated_summary':predictions,'summary':actuals})"
   ]
  },
  {
   "cell_type": "code",
   "execution_count": 33,
   "metadata": {
    "execution": {
     "iopub.execute_input": "2023-11-13T23:27:16.946551Z",
     "iopub.status.busy": "2023-11-13T23:27:16.945555Z",
     "iopub.status.idle": "2023-11-13T23:27:16.955981Z",
     "shell.execute_reply": "2023-11-13T23:27:16.954973Z",
     "shell.execute_reply.started": "2023-11-13T23:27:16.946518Z"
    }
   },
   "outputs": [],
   "source": [
    "from rouge_score import rouge_scorer\n",
    "def calculate_rouge(data):\n",
    "    scorer = rouge_scorer.RougeScorer(['rouge1', 'rouge2', 'rougeL'], use_stemmer=True)\n",
    "    data[\"r1_fscore\"] = data.apply(lambda row : scorer.score(row[\"summary\"],row[\"generated_summary\"])['rouge1'][2], axis=1)\n",
    "    data[\"r2_fscore\"] = data.apply(lambda row : scorer.score(row[\"summary\"],row[\"generated_summary\"])['rouge2'][2], axis=1)\n",
    "    data[\"rl_fscore\"] = data.apply(lambda row : scorer.score(row[\"summary\"],row[\"generated_summary\"])['rougeL'][2], axis=1)\n",
    "    return data"
   ]
  },
  {
   "cell_type": "code",
   "execution_count": 34,
   "metadata": {
    "execution": {
     "iopub.execute_input": "2023-11-13T23:27:19.295761Z",
     "iopub.status.busy": "2023-11-13T23:27:19.294819Z",
     "iopub.status.idle": "2023-11-13T23:27:20.884289Z",
     "shell.execute_reply": "2023-11-13T23:27:20.883343Z",
     "shell.execute_reply.started": "2023-11-13T23:27:19.295729Z"
    }
   },
   "outputs": [
    {
     "name": "stdout",
     "output_type": "stream",
     "text": [
      "ROUGE - 1 :  0.3734031999762959\n",
      "ROUGE - 2 :  0.19183872692024329\n",
      "ROUGE - L :  0.3512792881144631\n"
     ]
    }
   ],
   "source": [
    "score_ret_t5=calculate_rouge(t5_predict)\n",
    "\n",
    "print(\"ROUGE - 1 : \",score_ret_t5[\"r1_fscore\"].mean())\n",
    "print(\"ROUGE - 2 : \",score_ret_t5[\"r2_fscore\"].mean())\n",
    "print(\"ROUGE - L : \",score_ret_t5[\"rl_fscore\"].mean())"
   ]
  },
  {
   "cell_type": "code",
   "execution_count": 35,
   "metadata": {
    "execution": {
     "iopub.execute_input": "2023-11-13T23:27:30.651020Z",
     "iopub.status.busy": "2023-11-13T23:27:30.650615Z",
     "iopub.status.idle": "2023-11-13T23:27:30.663988Z",
     "shell.execute_reply": "2023-11-13T23:27:30.662923Z",
     "shell.execute_reply.started": "2023-11-13T23:27:30.650988Z"
    }
   },
   "outputs": [
    {
     "data": {
      "text/html": [
       "<div>\n",
       "<style scoped>\n",
       "    .dataframe tbody tr th:only-of-type {\n",
       "        vertical-align: middle;\n",
       "    }\n",
       "\n",
       "    .dataframe tbody tr th {\n",
       "        vertical-align: top;\n",
       "    }\n",
       "\n",
       "    .dataframe thead th {\n",
       "        text-align: right;\n",
       "    }\n",
       "</style>\n",
       "<table border=\"1\" class=\"dataframe\">\n",
       "  <thead>\n",
       "    <tr style=\"text-align: right;\">\n",
       "      <th></th>\n",
       "      <th>generated_summary</th>\n",
       "      <th>summary</th>\n",
       "      <th>r1_fscore</th>\n",
       "      <th>r2_fscore</th>\n",
       "      <th>rl_fscore</th>\n",
       "    </tr>\n",
       "  </thead>\n",
       "  <tbody>\n",
       "    <tr>\n",
       "      <th>0</th>\n",
       "      <td>alumnus of upGrad, IIIT-B</td>\n",
       "      <td>upGrad learner switches to career in</td>\n",
       "      <td>0.181818</td>\n",
       "      <td>0.000000</td>\n",
       "      <td>0.181818</td>\n",
       "    </tr>\n",
       "    <tr>\n",
       "      <th>1</th>\n",
       "      <td>KUNAL Shah's credit card bill payment platform gave users a chance to win free food from Swiggy</td>\n",
       "      <td>Delhi techie wins free food from Swi</td>\n",
       "      <td>0.320000</td>\n",
       "      <td>0.260870</td>\n",
       "      <td>0.320000</td>\n",
       "    </tr>\n",
       "    <tr>\n",
       "      <th>2</th>\n",
       "      <td>New Zealand defeat India by 8 wickets in the fourth ODI at Hamilton</td>\n",
       "      <td>New Zealand end Rohit Sharma-led India'</td>\n",
       "      <td>0.300000</td>\n",
       "      <td>0.111111</td>\n",
       "      <td>0.300000</td>\n",
       "    </tr>\n",
       "    <tr>\n",
       "      <th>3</th>\n",
       "      <td>Aegon Life iTerm Insurance plan provides tax benefits on premiums paid</td>\n",
       "      <td>Aegon life iTerm insurance plan helps</td>\n",
       "      <td>0.588235</td>\n",
       "      <td>0.533333</td>\n",
       "      <td>0.588235</td>\n",
       "    </tr>\n",
       "    <tr>\n",
       "      <th>4</th>\n",
       "      <td>Speaking about Rajkumar's sexual harassment allegations against Hirani, Sonam</td>\n",
       "      <td>Have known Hirani for yrs</td>\n",
       "      <td>0.133333</td>\n",
       "      <td>0.000000</td>\n",
       "      <td>0.133333</td>\n",
       "    </tr>\n",
       "  </tbody>\n",
       "</table>\n",
       "</div>"
      ],
      "text/plain": [
       "                                                                                 generated_summary  \\\n",
       "0                                                                        alumnus of upGrad, IIIT-B   \n",
       "1  KUNAL Shah's credit card bill payment platform gave users a chance to win free food from Swiggy   \n",
       "2                              New Zealand defeat India by 8 wickets in the fourth ODI at Hamilton   \n",
       "3                           Aegon Life iTerm Insurance plan provides tax benefits on premiums paid   \n",
       "4                    Speaking about Rajkumar's sexual harassment allegations against Hirani, Sonam   \n",
       "\n",
       "                                   summary  r1_fscore  r2_fscore  rl_fscore  \n",
       "0     upGrad learner switches to career in   0.181818   0.000000   0.181818  \n",
       "1     Delhi techie wins free food from Swi   0.320000   0.260870   0.320000  \n",
       "2  New Zealand end Rohit Sharma-led India'   0.300000   0.111111   0.300000  \n",
       "3    Aegon life iTerm insurance plan helps   0.588235   0.533333   0.588235  \n",
       "4                Have known Hirani for yrs   0.133333   0.000000   0.133333  "
      ]
     },
     "execution_count": 35,
     "metadata": {},
     "output_type": "execute_result"
    }
   ],
   "source": [
    "t5_predict.head()"
   ]
  },
  {
   "cell_type": "code",
   "execution_count": null,
   "metadata": {},
   "outputs": [],
   "source": []
  }
 ],
 "metadata": {
  "kaggle": {
   "accelerator": "gpu",
   "dataSources": [
    {
     "datasetId": 1895,
     "sourceId": 791838,
     "sourceType": "datasetVersion"
    }
   ],
   "dockerImageVersionId": 30558,
   "isGpuEnabled": true,
   "isInternetEnabled": true,
   "language": "python",
   "sourceType": "notebook"
  },
  "kernelspec": {
   "display_name": "Python 3 (ipykernel)",
   "language": "python",
   "name": "python3"
  },
  "language_info": {
   "codemirror_mode": {
    "name": "ipython",
    "version": 3
   },
   "file_extension": ".py",
   "mimetype": "text/x-python",
   "name": "python",
   "nbconvert_exporter": "python",
   "pygments_lexer": "ipython3",
   "version": "3.10.10"
  }
 },
 "nbformat": 4,
 "nbformat_minor": 4
}
